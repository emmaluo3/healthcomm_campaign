{
 "cells": [
  {
   "cell_type": "markdown",
   "id": "24b2e2d6-4ea1-45f0-9e23-53e1e21617fa",
   "metadata": {},
   "source": [
    "# Campaign Evaluation"
   ]
  },
  {
   "cell_type": "markdown",
   "id": "5f747ec1-da2e-453b-8d71-248f3957133e",
   "metadata": {},
   "source": [
    "## Process\n",
    "One of our biggest takeaways from this assignment was how abysmal Microsoft CoPilot\n",
    "was at generating images based on written descriptions of our health campaigns. We\n",
    "found the Open_API_Access notebook to be the best at generating images and we think\n",
    "this is because it uses DALL-E-3, the image generator for GPT4. The notebook was able\n",
    "to generate images with more accurate spelling as seen below, Protect Future, whereas\n",
    "CoPilot generated text on images like “SFIAL AP PEA”, which makes no sense. Overall,\n",
    "the different chat tools we used, whether it was Microsoft or different open source\n",
    "models on chat.lmsys.org, we found the tools to be better at generating text in line with\n",
    "our campaign ideas. Not only did they provide good ideas, but they also were able to\n",
    "tailor communications to different channels, such as social media. They came up with\n",
    "catchy slogans like Captain Condom for our posts or even #TheBarrierSquad."
   ]
  },
  {
   "cell_type": "markdown",
   "id": "f0d5e92d-5d17-4703-98b9-eea47e3bfbba",
   "metadata": {},
   "source": [
    "## Evaluating our Final Campaigns:\n",
    "### Humor Appeal Social Media Campaign\n",
    "* https://www.instagram.com/p/C4gj0LzPixR/?igsh=cGt3NHB6dG9xeW13"
   ]
  },
  {
   "cell_type": "markdown",
   "id": "f83352d4-e14c-40ea-9cb7-24d6df2017ba",
   "metadata": {},
   "source": [
    "### Fear Appeal Flyer\n",
    "\n",
    "![](img/fear_flyer.png)"
   ]
  },
  {
   "cell_type": "markdown",
   "id": "9ceb9ebc-f3ff-4824-a8d2-9fe5b2076bbc",
   "metadata": {},
   "source": [
    "For using the humor appeal, an Instagram carousel post is a modern and unique idea.\n",
    "Moreover, each slide in the post is specific. I can see some of these images being shared on social\n",
    "media for being “weird” and funny so AI did a good job on correctly using the humor appeal to\n",
    "generate a post that could go viral.\n",
    "When using the fear appeal, on the other, the flyer isn’t as scary as we hoped it would be. Our\n",
    "futures can be worrisome but I wouldn’t consider it to be scary. However, the flyer is neat and\n",
    "well organized. Overall, AI had an easier time creating campaigns using the humor appeal\n",
    "rather than the fear appeal. This could be due to the models being unaware/incapable of\n",
    "understanding fear, and having an easier time understanding humor. AI gave good ideas for\n",
    "campaigns but when it came to execution, it was lacking."
   ]
  },
  {
   "cell_type": "code",
   "execution_count": null,
   "id": "40ae692b-d36b-4b76-9096-997e420f1f5f",
   "metadata": {},
   "outputs": [],
   "source": []
  }
 ],
 "metadata": {
  "citation-manager": {
   "items": {}
  },
  "kernelspec": {
   "display_name": "Python 3.11 (COMM4190)",
   "language": "python",
   "name": "comm4190"
  },
  "language_info": {
   "codemirror_mode": {
    "name": "ipython",
    "version": 3
   },
   "file_extension": ".py",
   "mimetype": "text/x-python",
   "name": "python",
   "nbconvert_exporter": "python",
   "pygments_lexer": "ipython3",
   "version": "3.11.7"
  }
 },
 "nbformat": 4,
 "nbformat_minor": 5
}
